{
  "cells": [
    {
      "cell_type": "markdown",
      "metadata": {
        "id": "lmw_XI_iK8Xm"
      },
      "source": [
        "# IMPORT LIBRARIES AND TRAINING ADD-ONs"
      ]
    },
    {
      "cell_type": "code",
      "source": [
        "# for callbacks\n",
        "from tensorflow.keras.callbacks import EarlyStopping, ModelCheckpoint\n",
        "from keras.callbacks import ReduceLROnPlateau\n"
      ],
      "metadata": {
        "id": "f0vrHtzNj8nc"
      },
      "execution_count": null,
      "outputs": []
    },
    {
      "cell_type": "code",
      "source": [
        "#for transfer learning \n",
        "from tensorflow.keras.applications.vgg16 import VGG16\n",
        "from tensorflow.keras.applications.vgg19 import VGG19\n",
        "\n",
        "from tensorflow.keras.applications import  MobileNetV2, ResNet50\n",
        "from tensorflow.keras.applications.resnet50 import preprocess_input as preprocess_input_resnet50\n",
        "from tensorflow.keras.applications.vgg16 import preprocess_input as preprocess_input_vgg16\n",
        "from tensorflow.keras.applications.mobilenet_v2 import preprocess_input as preprocess_input_mobilenetv2\n"
      ],
      "metadata": {
        "id": "MxPPXswziaxs"
      },
      "execution_count": null,
      "outputs": []
    },
    {
      "cell_type": "code",
      "execution_count": null,
      "metadata": {
        "cellView": "form",
        "colab": {
          "base_uri": "https://localhost:8080/"
        },
        "id": "NvGnt0kjhgu6",
        "outputId": "93cc8073-1f8f-47e7-f25d-3ee487a708e7"
      },
      "outputs": [
        {
          "output_type": "stream",
          "name": "stdout",
          "text": [
            "Looking in indexes: https://pypi.org/simple, https://us-python.pkg.dev/colab-wheels/public/simple/\n",
            "Requirement already satisfied: pyyaml in /usr/local/lib/python3.7/dist-packages (3.13)\n",
            "Requirement already satisfied: h5py in /usr/local/lib/python3.7/dist-packages (3.1.0)\n",
            "Requirement already satisfied: numpy>=1.14.5 in /usr/local/lib/python3.7/dist-packages (from h5py) (1.21.6)\n",
            "Requirement already satisfied: cached-property in /usr/local/lib/python3.7/dist-packages (from h5py) (1.5.2)\n"
          ]
        }
      ],
      "source": [
        "#@title Required to save models in HDF5 \n",
        "!pip install pyyaml h5py  # Required to save models in HDF5 format"
      ]
    },
    {
      "cell_type": "code",
      "execution_count": null,
      "metadata": {
        "cellView": "form",
        "id": "cJU_mF5AEVyb"
      },
      "outputs": [],
      "source": [
        "#@title Gradio\n",
        "!pip install gradio --quiet\n",
        "import gradio as gr"
      ]
    },
    {
      "cell_type": "code",
      "execution_count": null,
      "metadata": {
        "colab": {
          "base_uri": "https://localhost:8080/",
          "height": 346
        },
        "id": "4B2N_1iy5C8y",
        "outputId": "5a7c2ac3-c26e-4681-e00d-d710ab938f77"
      },
      "outputs": [
        {
          "output_type": "error",
          "ename": "MessageError",
          "evalue": "ignored",
          "traceback": [
            "\u001b[0;31m---------------------------------------------------------------------------\u001b[0m",
            "\u001b[0;31mMessageError\u001b[0m                              Traceback (most recent call last)",
            "\u001b[0;32m<ipython-input-5-5b15c8f9af84>\u001b[0m in \u001b[0;36m<module>\u001b[0;34m()\u001b[0m\n\u001b[1;32m      1\u001b[0m \u001b[0;31m#@title Link to/Import Drive\u001b[0m\u001b[0;34m\u001b[0m\u001b[0;34m\u001b[0m\u001b[0;34m\u001b[0m\u001b[0m\n\u001b[1;32m      2\u001b[0m \u001b[0;32mfrom\u001b[0m \u001b[0mgoogle\u001b[0m\u001b[0;34m.\u001b[0m\u001b[0mcolab\u001b[0m \u001b[0;32mimport\u001b[0m \u001b[0mdrive\u001b[0m\u001b[0;34m\u001b[0m\u001b[0;34m\u001b[0m\u001b[0m\n\u001b[0;32m----> 3\u001b[0;31m \u001b[0mdrive\u001b[0m\u001b[0;34m.\u001b[0m\u001b[0mmount\u001b[0m\u001b[0;34m(\u001b[0m\u001b[0;34m'/content/drive'\u001b[0m\u001b[0;34m)\u001b[0m\u001b[0;34m\u001b[0m\u001b[0;34m\u001b[0m\u001b[0m\n\u001b[0m",
            "\u001b[0;32m/usr/local/lib/python3.7/dist-packages/google/colab/drive.py\u001b[0m in \u001b[0;36mmount\u001b[0;34m(mountpoint, force_remount, timeout_ms)\u001b[0m\n\u001b[1;32m    107\u001b[0m       \u001b[0mforce_remount\u001b[0m\u001b[0;34m=\u001b[0m\u001b[0mforce_remount\u001b[0m\u001b[0;34m,\u001b[0m\u001b[0;34m\u001b[0m\u001b[0;34m\u001b[0m\u001b[0m\n\u001b[1;32m    108\u001b[0m       \u001b[0mtimeout_ms\u001b[0m\u001b[0;34m=\u001b[0m\u001b[0mtimeout_ms\u001b[0m\u001b[0;34m,\u001b[0m\u001b[0;34m\u001b[0m\u001b[0;34m\u001b[0m\u001b[0m\n\u001b[0;32m--> 109\u001b[0;31m       ephemeral=True)\n\u001b[0m\u001b[1;32m    110\u001b[0m \u001b[0;34m\u001b[0m\u001b[0m\n\u001b[1;32m    111\u001b[0m \u001b[0;34m\u001b[0m\u001b[0m\n",
            "\u001b[0;32m/usr/local/lib/python3.7/dist-packages/google/colab/drive.py\u001b[0m in \u001b[0;36m_mount\u001b[0;34m(mountpoint, force_remount, timeout_ms, ephemeral)\u001b[0m\n\u001b[1;32m    122\u001b[0m   \u001b[0;32mif\u001b[0m \u001b[0mephemeral\u001b[0m\u001b[0;34m:\u001b[0m\u001b[0;34m\u001b[0m\u001b[0;34m\u001b[0m\u001b[0m\n\u001b[1;32m    123\u001b[0m     _message.blocking_request(\n\u001b[0;32m--> 124\u001b[0;31m         'request_auth', request={'authType': 'dfs_ephemeral'}, timeout_sec=None)\n\u001b[0m\u001b[1;32m    125\u001b[0m \u001b[0;34m\u001b[0m\u001b[0m\n\u001b[1;32m    126\u001b[0m   \u001b[0mmountpoint\u001b[0m \u001b[0;34m=\u001b[0m \u001b[0m_os\u001b[0m\u001b[0;34m.\u001b[0m\u001b[0mpath\u001b[0m\u001b[0;34m.\u001b[0m\u001b[0mexpanduser\u001b[0m\u001b[0;34m(\u001b[0m\u001b[0mmountpoint\u001b[0m\u001b[0;34m)\u001b[0m\u001b[0;34m\u001b[0m\u001b[0;34m\u001b[0m\u001b[0m\n",
            "\u001b[0;32m/usr/local/lib/python3.7/dist-packages/google/colab/_message.py\u001b[0m in \u001b[0;36mblocking_request\u001b[0;34m(request_type, request, timeout_sec, parent)\u001b[0m\n\u001b[1;32m    173\u001b[0m   request_id = send_request(\n\u001b[1;32m    174\u001b[0m       request_type, request, parent=parent, expect_reply=True)\n\u001b[0;32m--> 175\u001b[0;31m   \u001b[0;32mreturn\u001b[0m \u001b[0mread_reply_from_input\u001b[0m\u001b[0;34m(\u001b[0m\u001b[0mrequest_id\u001b[0m\u001b[0;34m,\u001b[0m \u001b[0mtimeout_sec\u001b[0m\u001b[0;34m)\u001b[0m\u001b[0;34m\u001b[0m\u001b[0;34m\u001b[0m\u001b[0m\n\u001b[0m",
            "\u001b[0;32m/usr/local/lib/python3.7/dist-packages/google/colab/_message.py\u001b[0m in \u001b[0;36mread_reply_from_input\u001b[0;34m(message_id, timeout_sec)\u001b[0m\n\u001b[1;32m    104\u001b[0m         reply.get('colab_msg_id') == message_id):\n\u001b[1;32m    105\u001b[0m       \u001b[0;32mif\u001b[0m \u001b[0;34m'error'\u001b[0m \u001b[0;32min\u001b[0m \u001b[0mreply\u001b[0m\u001b[0;34m:\u001b[0m\u001b[0;34m\u001b[0m\u001b[0;34m\u001b[0m\u001b[0m\n\u001b[0;32m--> 106\u001b[0;31m         \u001b[0;32mraise\u001b[0m \u001b[0mMessageError\u001b[0m\u001b[0;34m(\u001b[0m\u001b[0mreply\u001b[0m\u001b[0;34m[\u001b[0m\u001b[0;34m'error'\u001b[0m\u001b[0;34m]\u001b[0m\u001b[0;34m)\u001b[0m\u001b[0;34m\u001b[0m\u001b[0;34m\u001b[0m\u001b[0m\n\u001b[0m\u001b[1;32m    107\u001b[0m       \u001b[0;32mreturn\u001b[0m \u001b[0mreply\u001b[0m\u001b[0;34m.\u001b[0m\u001b[0mget\u001b[0m\u001b[0;34m(\u001b[0m\u001b[0;34m'data'\u001b[0m\u001b[0;34m,\u001b[0m \u001b[0;32mNone\u001b[0m\u001b[0;34m)\u001b[0m\u001b[0;34m\u001b[0m\u001b[0;34m\u001b[0m\u001b[0m\n\u001b[1;32m    108\u001b[0m \u001b[0;34m\u001b[0m\u001b[0m\n",
            "\u001b[0;31mMessageError\u001b[0m: Error: credential propagation was unsuccessful"
          ]
        }
      ],
      "source": [
        "#@title Link to/Import Drive\n",
        "from google.colab import drive\n",
        "drive.mount('/content/drive')"
      ]
    },
    {
      "cell_type": "code",
      "execution_count": null,
      "metadata": {
        "cellView": "form",
        "id": "uhRj6gyVEj0i"
      },
      "outputs": [],
      "source": [
        "#@title Numpy, Matplotlib, OS \n",
        "import numpy as np\n",
        "import matplotlib.pyplot as plt\n",
        "import os"
      ]
    },
    {
      "cell_type": "code",
      "execution_count": null,
      "metadata": {
        "id": "AbgCWGGYHmR0"
      },
      "outputs": [],
      "source": [
        "#@title TensorFlow, Keras and others\n",
        "from tensorflow.keras.models import Sequential\n",
        "from tensorflow.keras.layers import Dense, Dropout, Activation\n",
        "from tensorflow.keras.layers import MaxPool2D, GlobalAvgPool2D, AveragePooling2D\n",
        "from tensorflow.keras.layers import Conv2D\n",
        "import tensorflow as tf\n",
        "from tensorflow.keras.layers import BatchNormalization as BatchNorm\n",
        "from tensorflow import keras\n"
      ]
    },
    {
      "cell_type": "code",
      "execution_count": null,
      "metadata": {
        "cellView": "form",
        "id": "y7VcJ5ppLPqU"
      },
      "outputs": [],
      "source": [
        "#@title CODE TO DRAW LEARNING CURVE \n",
        "def draw_learning_curve(history):\n",
        "  plt.figure(figsize=(20,6))\n",
        "  plt.subplot(1,2,1)\n",
        "  plt.plot(history.history['loss'])\n",
        "  plt.plot(history.history['val_loss'])\n",
        "  plt.subplot(1,2,2)\n",
        "  plt.plot(history.history['accuracy'])\n",
        "  plt.plot(history.history['val_accuracy'])\n",
        "  plt.show()"
      ]
    },
    {
      "cell_type": "code",
      "execution_count": null,
      "metadata": {
        "id": "GjlRWb5RMM0B"
      },
      "outputs": [],
      "source": [
        "#@title EARLY STOPPING CODE\n",
        "from tensorflow.keras.callbacks import EarlyStopping\n",
        "stop =  EarlyStopping(monitor='val_loss', patience=18, restore_best_weights=True)\n"
      ]
    },
    {
      "cell_type": "code",
      "source": [
        "#Importing MobileNetV2\n",
        "from keras.applications.mobilenet_v2 import MobileNetV2, preprocess_input\n",
        "from imageio import imread\n"
      ],
      "metadata": {
        "id": "N3JZkP5WWAUV"
      },
      "execution_count": null,
      "outputs": []
    },
    {
      "cell_type": "markdown",
      "metadata": {
        "id": "R9qW5b5qZsSi"
      },
      "source": [
        "HOW DECAY RATES WORKS:\n",
        "https://medium.com/analytics-vidhya/learning-rate-decay-and-methods-in-deep-learning-2cee564f910b\n",
        "\n",
        "exponential decay: “ α = ( decayRate^(epochNumber) )*α0 “\n",
        "\n"
      ]
    },
    {
      "cell_type": "code",
      "execution_count": null,
      "metadata": {
        "id": "XEHMtKWFCnyM"
      },
      "outputs": [],
      "source": [
        "batch_size0=60"
      ]
    },
    {
      "cell_type": "code",
      "execution_count": null,
      "metadata": {
        "id": "SDfEygofYcPB",
        "colab": {
          "base_uri": "https://localhost:8080/",
          "height": 235
        },
        "outputId": "f1bb35d7-bca9-4362-b6f6-47886a0a0316"
      },
      "outputs": [
        {
          "output_type": "error",
          "ename": "NameError",
          "evalue": "ignored",
          "traceback": [
            "\u001b[0;31m---------------------------------------------------------------------------\u001b[0m",
            "\u001b[0;31mNameError\u001b[0m                                 Traceback (most recent call last)",
            "\u001b[0;32m<ipython-input-11-32df2dc6db0a>\u001b[0m in \u001b[0;36m<module>\u001b[0;34m()\u001b[0m\n\u001b[1;32m      1\u001b[0m \u001b[0;31m#@title LEARNING RATE DECAY\u001b[0m\u001b[0;34m\u001b[0m\u001b[0;34m\u001b[0m\u001b[0;34m\u001b[0m\u001b[0m\n\u001b[1;32m      2\u001b[0m \u001b[0minitial_learning_rate\u001b[0m \u001b[0;34m=\u001b[0m \u001b[0;36m0.001\u001b[0m\u001b[0;34m\u001b[0m\u001b[0;34m\u001b[0m\u001b[0m\n\u001b[0;32m----> 3\u001b[0;31m lr_schedule = tf.keras.optimizers.schedules.ExponentialDecay(\n\u001b[0m\u001b[1;32m      4\u001b[0m     \u001b[0minitial_learning_rate\u001b[0m\u001b[0;34m,\u001b[0m\u001b[0;34m\u001b[0m\u001b[0;34m\u001b[0m\u001b[0m\n\u001b[1;32m      5\u001b[0m     \u001b[0mdecay_steps\u001b[0m\u001b[0;34m=\u001b[0m\u001b[0;34m(\u001b[0m\u001b[0;36m1020\u001b[0m\u001b[0;34m/\u001b[0m\u001b[0mbatch_size0\u001b[0m\u001b[0;34m)\u001b[0m\u001b[0;34m*\u001b[0m\u001b[0;36m51\u001b[0m\u001b[0;34m,\u001b[0m\u001b[0;34m\u001b[0m\u001b[0;34m\u001b[0m\u001b[0m\n",
            "\u001b[0;31mNameError\u001b[0m: name 'tf' is not defined"
          ]
        }
      ],
      "source": [
        "#@title LEARNING RATE DECAY\n",
        "initial_learning_rate = 0.001\n",
        "lr_schedule = tf.keras.optimizers.schedules.ExponentialDecay(\n",
        "    initial_learning_rate,\n",
        "    decay_steps=(1020/batch_size0)*51,\n",
        "    decay_rate=0.8,\n",
        "    staircase=True)\n",
        "\n"
      ]
    },
    {
      "cell_type": "code",
      "execution_count": null,
      "metadata": {
        "cellView": "form",
        "id": "NZr65oDfIZbC",
        "colab": {
          "base_uri": "https://localhost:8080/",
          "height": 218
        },
        "outputId": "c46bbd3a-45ea-4d12-dbbe-28a347528353"
      },
      "outputs": [
        {
          "output_type": "error",
          "ename": "NameError",
          "evalue": "ignored",
          "traceback": [
            "\u001b[0;31m---------------------------------------------------------------------------\u001b[0m",
            "\u001b[0;31mNameError\u001b[0m                                 Traceback (most recent call last)",
            "\u001b[0;32m<ipython-input-12-c7ac3e6d8c46>\u001b[0m in \u001b[0;36m<module>\u001b[0;34m()\u001b[0m\n\u001b[1;32m      1\u001b[0m \u001b[0;31m#@title CUSTOMIZE OPTIMIZERS (Adam,SGD)\u001b[0m\u001b[0;34m\u001b[0m\u001b[0;34m\u001b[0m\u001b[0;34m\u001b[0m\u001b[0m\n\u001b[1;32m      2\u001b[0m \u001b[0;32mfrom\u001b[0m \u001b[0mtensorflow\u001b[0m\u001b[0;34m.\u001b[0m\u001b[0mkeras\u001b[0m\u001b[0;34m.\u001b[0m\u001b[0moptimizers\u001b[0m \u001b[0;32mimport\u001b[0m \u001b[0mAdam\u001b[0m\u001b[0;34m,\u001b[0m \u001b[0mSGD\u001b[0m\u001b[0;34m\u001b[0m\u001b[0;34m\u001b[0m\u001b[0m\n\u001b[0;32m----> 3\u001b[0;31m \u001b[0moptim_sgd\u001b[0m \u001b[0;34m=\u001b[0m \u001b[0mSGD\u001b[0m\u001b[0;34m(\u001b[0m\u001b[0mlr_schedule\u001b[0m\u001b[0;34m)\u001b[0m\u001b[0;34m\u001b[0m\u001b[0;34m\u001b[0m\u001b[0m\n\u001b[0m\u001b[1;32m      4\u001b[0m \u001b[0moptim_adam\u001b[0m \u001b[0;34m=\u001b[0m \u001b[0mAdam\u001b[0m\u001b[0;34m(\u001b[0m\u001b[0mlr_schedule\u001b[0m\u001b[0;34m)\u001b[0m\u001b[0;34m\u001b[0m\u001b[0;34m\u001b[0m\u001b[0m\n",
            "\u001b[0;31mNameError\u001b[0m: name 'lr_schedule' is not defined"
          ]
        }
      ],
      "source": [
        "#@title CUSTOMIZE OPTIMIZERS (Adam,SGD)\n",
        "from tensorflow.keras.optimizers import Adam, SGD\n",
        "optim_sgd = SGD(lr_schedule)\n",
        "optim_adam = Adam(lr_schedule)"
      ]
    },
    {
      "cell_type": "code",
      "source": [
        "learning_rate_reduction = ReduceLROnPlateau(monitor = 'val_accuracy',\n",
        "                                            patience = 4, # if for the past 3 epochs, the accuracy remians constant\n",
        "                                            factor = 0.6, # decrease the learning rate by 0.6\n",
        "                                            min_lr = 0.00001)\n",
        "# Defining Callbacks\n",
        "\n",
        "filepath = './best_weights.hdf5'\n",
        "filepath2 = './vgg_19_best_weights.hdf5'\n",
        "\n",
        "checkpoint_model    = ModelCheckpoint(filepath, \n",
        "                                monitor = 'val_accuracy', \n",
        "                                mode='max', # model with maximum val_accuracy is saved\n",
        "                                save_best_only=True,  #save model with best weights\n",
        "                                verbose = 1)\n",
        "\n",
        "checkpoint_model2    = ModelCheckpoint(filepath2, \n",
        "                                monitor = 'val_accuracy', \n",
        "                                mode='max', # model with maximum val_accuracy is saved\n",
        "                                save_best_only=True,  #save model with best weights\n",
        "                                verbose = 1)\n",
        "callback_list = [learning_rate_reduction, checkpoint_model]\n",
        "\n",
        "callback_list2 = [learning_rate_reduction, checkpoint_model2]"
      ],
      "metadata": {
        "id": "QRJtFqP8kCwI"
      },
      "execution_count": null,
      "outputs": []
    },
    {
      "cell_type": "markdown",
      "metadata": {
        "id": "f5VeZQ_tWdEf"
      },
      "source": [
        "# IMPORT oxford_flowers102 DATASET"
      ]
    },
    {
      "cell_type": "code",
      "execution_count": null,
      "metadata": {
        "id": "dcbf61G7HUrB"
      },
      "outputs": [],
      "source": [
        "#@title Dùng TensorFlow Datasets để load bộ data oxford_flowers102\n",
        "import tensorflow_datasets as tfds\n",
        "\n",
        "(train, val, test), info = tfds.load('oxford_flowers102', \n",
        "                                      split=['train', 'validation', 'test'],\n",
        "                                      shuffle_files=True,\n",
        "                                      as_supervised=True, \n",
        "                                      with_info=True)"
      ]
    },
    {
      "cell_type": "code",
      "execution_count": null,
      "metadata": {
        "id": "RL-JT1f5euS-"
      },
      "outputs": [],
      "source": [
        "#@title Lưu danh sách tên vào file txt\n",
        "f = open(\"flower_names.txt\", \"w\")\n",
        "f.write(info.features['label'].names[0])\n",
        "\n",
        "i=1\n",
        "while i<102:\n",
        "  f.write(\" \\n\")\n",
        "  f.write(info.features['label'].names[i])\n",
        "  i+=1\n",
        "f.close()\n"
      ]
    },
    {
      "cell_type": "markdown",
      "metadata": {
        "id": "rq6_tAMlKz-3"
      },
      "source": [
        "# DATA PREPROCESSING"
      ]
    },
    {
      "cell_type": "code",
      "execution_count": null,
      "metadata": {
        "id": "OEaBtdTUgVEK"
      },
      "outputs": [],
      "source": [
        "from tensorflow import cast, float32\n",
        "from tensorflow.data.experimental import AUTOTUNE\n",
        "from tensorflow import one_hot \n",
        "from tensorflow.image import resize\n",
        "\n",
        "def preprocess_data(image, label):\n",
        "  \"\"\"\n",
        "  Normalizes images: `uint8` -> `float32`.\n",
        "  One hot encoding labels\n",
        "  Resize to (224, 224)\n",
        "  \"\"\"\n",
        "\n",
        "\n",
        "  return resize(cast(image, float32)/255. , [224, 224]), one_hot(label, 102)\n",
        "\n"
      ]
    },
    {
      "cell_type": "code",
      "execution_count": null,
      "metadata": {
        "id": "ZSAQkNNGgXVD"
      },
      "outputs": [],
      "source": [
        "train_data = train.map(\n",
        "    preprocess_data, num_parallel_calls=AUTOTUNE)\n",
        "train_data = train_data.cache()\n",
        "train_data = train_data.shuffle(info.splits['train'].num_examples)\n",
        "train_data = train_data.batch(batch_size0)\n",
        "train_data = train_data.prefetch(AUTOTUNE)"
      ]
    },
    {
      "cell_type": "code",
      "execution_count": null,
      "metadata": {
        "id": "wPm92HFLgj1c"
      },
      "outputs": [],
      "source": [
        "val_data = val.map(\n",
        "    preprocess_data, num_parallel_calls=AUTOTUNE)\n",
        "val_data = val_data.batch(batch_size0)\n",
        "val_data = val_data.cache()\n",
        "val_data = val_data.prefetch(AUTOTUNE)"
      ]
    },
    {
      "cell_type": "code",
      "execution_count": null,
      "metadata": {
        "id": "sAc7-1BjglQU"
      },
      "outputs": [],
      "source": [
        "test_data = test.map(\n",
        "    preprocess_data, num_parallel_calls=AUTOTUNE)\n",
        "test_data = test_data.batch(batch_size0)\n",
        "test_data = test_data.cache()\n",
        "test_data = test_data.prefetch(AUTOTUNE)"
      ]
    },
    {
      "cell_type": "markdown",
      "source": [
        "#VGG 16"
      ],
      "metadata": {
        "id": "h6x_e5HJiv9y"
      }
    },
    {
      "cell_type": "code",
      "source": [
        "#use VGG16 pre-trained model\n",
        "def create_Base_model_from_VGG16():\n",
        "   \n",
        "    model = VGG16(weights = \"imagenet\", include_top=False, input_shape = (224,224, 3))\n",
        "    \n",
        "    # don't train existing weights \n",
        "    for layer in model.layers:\n",
        "      layer.trainable = False\n",
        "\n",
        "    return model"
      ],
      "metadata": {
        "id": "JN0FT2QWixot"
      },
      "execution_count": null,
      "outputs": []
    },
    {
      "cell_type": "code",
      "source": [
        "## Adding custom layes to base model\n",
        "\n",
        "def add_custom_layers():\n",
        "    #Adding custom Layers \n",
        "    model = create_Base_model_from_VGG16()\n",
        "    x = model.output\n",
        "    x = tf.keras.layers.Flatten()(x)\n",
        "    x = tf.keras.layers.Dense(512, activation=\"relu\")(x)\n",
        "    x = tf.keras.layers.Dense(512, activation=\"relu\")(x)\n",
        "\n",
        "    predictions = tf.keras.layers.Dense(102, activation=\"softmax\")(x)\n",
        "    \n",
        "    # creating the final model \n",
        "    final_model = tf.keras.models.Model(inputs = model.input, outputs = predictions)\n",
        "    \n",
        "    final_model.compile(loss='categorical_crossentropy', optimizer='adam', metrics=['accuracy']) \n",
        "    \n",
        "    return final_model"
      ],
      "metadata": {
        "id": "ze_GCyQ7i8yY"
      },
      "execution_count": null,
      "outputs": []
    },
    {
      "cell_type": "code",
      "source": [
        "epochs = 25\n",
        "#start = time.time()\n",
        "\n",
        "model_from_vgg16 = add_custom_layers()\n",
        "history2 = model_from_vgg16.fit(test_data,\n",
        "                    epochs=epochs,\n",
        "                    validation_data=val_data,\n",
        "                    #validation_steps=5,\n",
        "                    verbose=1,\n",
        "                    callbacks = callback_list # giving the callback list\n",
        "                     )\n"
      ],
      "metadata": {
        "colab": {
          "base_uri": "https://localhost:8080/"
        },
        "id": "Y2xNRgTYjNnm",
        "outputId": "8460245f-7cd1-4176-8f65-511284fe06a4"
      },
      "execution_count": null,
      "outputs": [
        {
          "output_type": "stream",
          "name": "stdout",
          "text": [
            "Downloading data from https://storage.googleapis.com/tensorflow/keras-applications/vgg16/vgg16_weights_tf_dim_ordering_tf_kernels_notop.h5\n",
            "58892288/58889256 [==============================] - 0s 0us/step\n",
            "58900480/58889256 [==============================] - 0s 0us/step\n",
            "Epoch 1/25\n",
            "103/103 [==============================] - ETA: 0s - loss: 2.8615 - accuracy: 0.3679\n",
            "Epoch 1: val_accuracy improved from -inf to 0.41961, saving model to ./best_weights.hdf5\n",
            "103/103 [==============================] - 61s 447ms/step - loss: 2.8615 - accuracy: 0.3679 - val_loss: 2.1900 - val_accuracy: 0.4196 - lr: 0.0010\n",
            "Epoch 2/25\n",
            "103/103 [==============================] - ETA: 0s - loss: 0.8073 - accuracy: 0.7858\n",
            "Epoch 2: val_accuracy improved from 0.41961 to 0.60000, saving model to ./best_weights.hdf5\n",
            "103/103 [==============================] - 38s 368ms/step - loss: 0.8073 - accuracy: 0.7858 - val_loss: 1.4550 - val_accuracy: 0.6000 - lr: 0.0010\n",
            "Epoch 3/25\n",
            "103/103 [==============================] - ETA: 0s - loss: 0.2800 - accuracy: 0.9314\n",
            "Epoch 3: val_accuracy improved from 0.60000 to 0.60784, saving model to ./best_weights.hdf5\n",
            "103/103 [==============================] - 40s 386ms/step - loss: 0.2800 - accuracy: 0.9314 - val_loss: 1.4862 - val_accuracy: 0.6078 - lr: 0.0010\n",
            "Epoch 4/25\n",
            "103/103 [==============================] - ETA: 0s - loss: 0.1339 - accuracy: 0.9680\n",
            "Epoch 4: val_accuracy improved from 0.60784 to 0.62941, saving model to ./best_weights.hdf5\n",
            "103/103 [==============================] - 39s 373ms/step - loss: 0.1339 - accuracy: 0.9680 - val_loss: 1.4263 - val_accuracy: 0.6294 - lr: 0.0010\n",
            "Epoch 5/25\n",
            "103/103 [==============================] - ETA: 0s - loss: 0.0768 - accuracy: 0.9823\n",
            "Epoch 5: val_accuracy improved from 0.62941 to 0.69020, saving model to ./best_weights.hdf5\n",
            "103/103 [==============================] - 39s 379ms/step - loss: 0.0768 - accuracy: 0.9823 - val_loss: 1.2475 - val_accuracy: 0.6902 - lr: 0.0010\n",
            "Epoch 6/25\n",
            "103/103 [==============================] - ETA: 0s - loss: 0.0691 - accuracy: 0.9821\n",
            "Epoch 6: val_accuracy did not improve from 0.69020\n",
            "103/103 [==============================] - 38s 367ms/step - loss: 0.0691 - accuracy: 0.9821 - val_loss: 1.2832 - val_accuracy: 0.6902 - lr: 0.0010\n",
            "Epoch 7/25\n",
            "103/103 [==============================] - ETA: 0s - loss: 0.0443 - accuracy: 0.9901\n",
            "Epoch 7: val_accuracy did not improve from 0.69020\n",
            "103/103 [==============================] - 38s 368ms/step - loss: 0.0443 - accuracy: 0.9901 - val_loss: 1.4672 - val_accuracy: 0.6618 - lr: 0.0010\n",
            "Epoch 8/25\n",
            "103/103 [==============================] - ETA: 0s - loss: 0.0190 - accuracy: 0.9967\n",
            "Epoch 8: val_accuracy improved from 0.69020 to 0.72157, saving model to ./best_weights.hdf5\n",
            "103/103 [==============================] - 39s 377ms/step - loss: 0.0190 - accuracy: 0.9967 - val_loss: 1.2791 - val_accuracy: 0.7216 - lr: 0.0010\n",
            "Epoch 9/25\n",
            "103/103 [==============================] - ETA: 0s - loss: 0.0067 - accuracy: 0.9995\n",
            "Epoch 9: val_accuracy improved from 0.72157 to 0.77745, saving model to ./best_weights.hdf5\n",
            "103/103 [==============================] - 39s 378ms/step - loss: 0.0067 - accuracy: 0.9995 - val_loss: 0.9149 - val_accuracy: 0.7775 - lr: 0.0010\n",
            "Epoch 10/25\n",
            "103/103 [==============================] - ETA: 0s - loss: 0.0036 - accuracy: 0.9997\n",
            "Epoch 10: val_accuracy did not improve from 0.77745\n",
            "103/103 [==============================] - 38s 368ms/step - loss: 0.0036 - accuracy: 0.9997 - val_loss: 0.9026 - val_accuracy: 0.7775 - lr: 0.0010\n",
            "Epoch 11/25\n",
            "103/103 [==============================] - ETA: 0s - loss: 0.0023 - accuracy: 0.9997\n",
            "Epoch 11: val_accuracy improved from 0.77745 to 0.78529, saving model to ./best_weights.hdf5\n",
            "103/103 [==============================] - 39s 378ms/step - loss: 0.0023 - accuracy: 0.9997 - val_loss: 0.9031 - val_accuracy: 0.7853 - lr: 0.0010\n",
            "Epoch 12/25\n",
            "103/103 [==============================] - ETA: 0s - loss: 0.0018 - accuracy: 0.9997\n",
            "Epoch 12: val_accuracy did not improve from 0.78529\n",
            "103/103 [==============================] - 38s 368ms/step - loss: 0.0018 - accuracy: 0.9997 - val_loss: 0.9123 - val_accuracy: 0.7804 - lr: 0.0010\n",
            "Epoch 13/25\n",
            "103/103 [==============================] - ETA: 0s - loss: 0.0017 - accuracy: 0.9997\n",
            "Epoch 13: val_accuracy did not improve from 0.78529\n",
            "103/103 [==============================] - 38s 368ms/step - loss: 0.0017 - accuracy: 0.9997 - val_loss: 0.9060 - val_accuracy: 0.7824 - lr: 0.0010\n",
            "Epoch 14/25\n",
            "103/103 [==============================] - ETA: 0s - loss: 0.0014 - accuracy: 0.9997\n",
            "Epoch 14: val_accuracy did not improve from 0.78529\n",
            "103/103 [==============================] - 38s 368ms/step - loss: 0.0014 - accuracy: 0.9997 - val_loss: 0.9216 - val_accuracy: 0.7784 - lr: 0.0010\n",
            "Epoch 15/25\n",
            "103/103 [==============================] - ETA: 0s - loss: 0.0012 - accuracy: 0.9997\n",
            "Epoch 15: val_accuracy did not improve from 0.78529\n",
            "103/103 [==============================] - 38s 368ms/step - loss: 0.0012 - accuracy: 0.9997 - val_loss: 0.9125 - val_accuracy: 0.7804 - lr: 0.0010\n",
            "Epoch 16/25\n",
            "103/103 [==============================] - ETA: 0s - loss: 8.3968e-04 - accuracy: 0.9997\n",
            "Epoch 16: val_accuracy did not improve from 0.78529\n",
            "103/103 [==============================] - 38s 368ms/step - loss: 8.3968e-04 - accuracy: 0.9997 - val_loss: 0.9237 - val_accuracy: 0.7804 - lr: 6.0000e-04\n",
            "Epoch 17/25\n",
            "103/103 [==============================] - ETA: 0s - loss: 7.7292e-04 - accuracy: 0.9997\n",
            "Epoch 17: val_accuracy did not improve from 0.78529\n",
            "103/103 [==============================] - 38s 368ms/step - loss: 7.7292e-04 - accuracy: 0.9997 - val_loss: 0.9252 - val_accuracy: 0.7824 - lr: 6.0000e-04\n",
            "Epoch 18/25\n",
            "103/103 [==============================] - ETA: 0s - loss: 7.7158e-04 - accuracy: 0.9997\n",
            "Epoch 18: val_accuracy did not improve from 0.78529\n",
            "103/103 [==============================] - 38s 367ms/step - loss: 7.7158e-04 - accuracy: 0.9997 - val_loss: 0.9282 - val_accuracy: 0.7814 - lr: 6.0000e-04\n",
            "Epoch 19/25\n",
            "103/103 [==============================] - ETA: 0s - loss: 7.3472e-04 - accuracy: 0.9997\n",
            "Epoch 19: val_accuracy did not improve from 0.78529\n",
            "103/103 [==============================] - 38s 368ms/step - loss: 7.3472e-04 - accuracy: 0.9997 - val_loss: 0.9330 - val_accuracy: 0.7814 - lr: 6.0000e-04\n",
            "Epoch 20/25\n",
            "103/103 [==============================] - ETA: 0s - loss: 5.6905e-04 - accuracy: 0.9997\n",
            "Epoch 20: val_accuracy did not improve from 0.78529\n",
            "103/103 [==============================] - 38s 368ms/step - loss: 5.6905e-04 - accuracy: 0.9997 - val_loss: 0.9366 - val_accuracy: 0.7824 - lr: 3.6000e-04\n",
            "Epoch 21/25\n",
            "103/103 [==============================] - ETA: 0s - loss: 5.6640e-04 - accuracy: 0.9997\n",
            "Epoch 21: val_accuracy did not improve from 0.78529\n",
            "103/103 [==============================] - 38s 368ms/step - loss: 5.6640e-04 - accuracy: 0.9997 - val_loss: 0.9378 - val_accuracy: 0.7814 - lr: 3.6000e-04\n",
            "Epoch 22/25\n",
            "103/103 [==============================] - ETA: 0s - loss: 5.6549e-04 - accuracy: 0.9997\n",
            "Epoch 22: val_accuracy did not improve from 0.78529\n",
            "103/103 [==============================] - 38s 367ms/step - loss: 5.6549e-04 - accuracy: 0.9997 - val_loss: 0.9393 - val_accuracy: 0.7833 - lr: 3.6000e-04\n",
            "Epoch 23/25\n",
            "103/103 [==============================] - ETA: 0s - loss: 5.7118e-04 - accuracy: 0.9997\n",
            "Epoch 23: val_accuracy did not improve from 0.78529\n",
            "103/103 [==============================] - 38s 368ms/step - loss: 5.7118e-04 - accuracy: 0.9997 - val_loss: 0.9407 - val_accuracy: 0.7824 - lr: 3.6000e-04\n",
            "Epoch 24/25\n",
            "103/103 [==============================] - ETA: 0s - loss: 4.8780e-04 - accuracy: 0.9997\n",
            "Epoch 24: val_accuracy did not improve from 0.78529\n",
            "103/103 [==============================] - 38s 367ms/step - loss: 4.8780e-04 - accuracy: 0.9997 - val_loss: 0.9416 - val_accuracy: 0.7824 - lr: 2.1600e-04\n",
            "Epoch 25/25\n",
            "103/103 [==============================] - ETA: 0s - loss: 4.9244e-04 - accuracy: 0.9997\n",
            "Epoch 25: val_accuracy did not improve from 0.78529\n",
            "103/103 [==============================] - 38s 367ms/step - loss: 4.9244e-04 - accuracy: 0.9997 - val_loss: 0.9432 - val_accuracy: 0.7814 - lr: 2.1600e-04\n"
          ]
        }
      ]
    },
    {
      "cell_type": "code",
      "source": [
        "model_from_vgg16.save('model_vgg16.h5')"
      ],
      "metadata": {
        "id": "ucmkKe4i4mVa"
      },
      "execution_count": null,
      "outputs": []
    },
    {
      "cell_type": "code",
      "source": [
        "draw_learning_curve(history2)"
      ],
      "metadata": {
        "colab": {
          "base_uri": "https://localhost:8080/",
          "height": 365
        },
        "id": "Ljo2cN3E35P3",
        "outputId": "6f66dfe0-103f-4610-8ab8-3aeb2fa3a785"
      },
      "execution_count": null,
      "outputs": [
        {
          "output_type": "display_data",
          "data": {
            "text/plain": [
              "<Figure size 1440x432 with 2 Axes>"
            ],
            "image/png": "[encoded data removed]"
          },
          "metadata": {
            "needs_background": "light"
          }
        }
      ]
    },
    {
      "cell_type": "markdown",
      "source": [
        "# VGG 19"
      ],
      "metadata": {
        "id": "9JyfVlg8sI5_"
      }
    },
    {
      "cell_type": "code",
      "source": [
        "#use VGG19 pre-trained model\n",
        "def create_Base_model_from_VGG19():\n",
        "   \n",
        "    model = VGG19(weights = \"imagenet\", include_top=False, input_shape = (224,224, 3))\n",
        "    \n",
        "    # don't train existing weights \n",
        "    for layer in model.layers:\n",
        "      layer.trainable = False\n",
        "\n",
        "    return model"
      ],
      "metadata": {
        "id": "4KYct4I1sPfl"
      },
      "execution_count": null,
      "outputs": []
    },
    {
      "cell_type": "code",
      "source": [
        "## Adding custom layes to base model\n",
        "\n",
        "def add_custom_layers_VGG19():\n",
        "    #Adding custom Layers \n",
        "    model = create_Base_model_from_VGG19()\n",
        "    x = model.output\n",
        "    x = tf.keras.layers.Flatten()(x)\n",
        "    x = tf.keras.layers.Dense(1024, activation=\"relu\")(x)\n",
        "\n",
        "\n",
        "    predictions = tf.keras.layers.Dense(102, activation=\"softmax\")(x)\n",
        "    \n",
        "    # creating the final model \n",
        "    final_model = tf.keras.models.Model(inputs = model.input, outputs = predictions)\n",
        "    \n",
        "    final_model.compile(loss='categorical_crossentropy', optimizer='adam', metrics=['accuracy']) \n",
        "    \n",
        "    return final_model"
      ],
      "metadata": {
        "id": "MJR0rft8saAV"
      },
      "execution_count": null,
      "outputs": []
    },
    {
      "cell_type": "code",
      "source": [
        "epochs = 25\n",
        "#start = time.time()\n",
        "\n",
        "model_from_vgg19 = add_custom_layers_VGG19()\n",
        "history3 = model_from_vgg19.fit(test_data,\n",
        "                    epochs=epochs,\n",
        "                    validation_data=val_data,\n",
        "                    #validation_steps=5,\n",
        "                    verbose=1,\n",
        "                    callbacks = callback_list2 # giving the callback list\n",
        "                     )"
      ],
      "metadata": {
        "colab": {
          "base_uri": "https://localhost:8080/"
        },
        "id": "QyeQbzULshQq",
        "outputId": "c55bb0b5-4dd9-4382-9a8d-41319c498f01"
      },
      "execution_count": null,
      "outputs": [
        {
          "output_type": "stream",
          "name": "stdout",
          "text": [
            "Downloading data from https://storage.googleapis.com/tensorflow/keras-applications/vgg19/vgg19_weights_tf_dim_ordering_tf_kernels_notop.h5\n",
            "80142336/80134624 [==============================] - 0s 0us/step\n",
            "80150528/80134624 [==============================] - 0s 0us/step\n",
            "Epoch 1/25\n",
            "103/103 [==============================] - ETA: 0s - loss: 4.8604 - accuracy: 0.3466\n",
            "Epoch 1: val_accuracy improved from -inf to 0.48235, saving model to ./vgg_19_best_weights.hdf5\n",
            "103/103 [==============================] - 70s 537ms/step - loss: 4.8604 - accuracy: 0.3466 - val_loss: 2.0822 - val_accuracy: 0.4824 - lr: 0.0010\n",
            "Epoch 2/25\n",
            "103/103 [==============================] - ETA: 0s - loss: 0.8170 - accuracy: 0.8112\n",
            "Epoch 2: val_accuracy improved from 0.48235 to 0.64216, saving model to ./vgg_19_best_weights.hdf5\n",
            "103/103 [==============================] - 46s 448ms/step - loss: 0.8170 - accuracy: 0.8112 - val_loss: 1.3656 - val_accuracy: 0.6422 - lr: 0.0010\n",
            "Epoch 3/25\n",
            "103/103 [==============================] - ETA: 0s - loss: 0.2892 - accuracy: 0.9462\n",
            "Epoch 3: val_accuracy improved from 0.64216 to 0.67157, saving model to ./vgg_19_best_weights.hdf5\n",
            "103/103 [==============================] - 45s 440ms/step - loss: 0.2892 - accuracy: 0.9462 - val_loss: 1.2359 - val_accuracy: 0.6716 - lr: 0.0010\n",
            "Epoch 4/25\n",
            "103/103 [==============================] - ETA: 0s - loss: 0.1361 - accuracy: 0.9815\n",
            "Epoch 4: val_accuracy improved from 0.67157 to 0.69118, saving model to ./vgg_19_best_weights.hdf5\n",
            "103/103 [==============================] - 45s 442ms/step - loss: 0.1361 - accuracy: 0.9815 - val_loss: 1.2187 - val_accuracy: 0.6912 - lr: 0.0010\n",
            "Epoch 5/25\n",
            "103/103 [==============================] - ETA: 0s - loss: 0.0595 - accuracy: 0.9959\n",
            "Epoch 5: val_accuracy improved from 0.69118 to 0.70294, saving model to ./vgg_19_best_weights.hdf5\n",
            "103/103 [==============================] - 46s 446ms/step - loss: 0.0595 - accuracy: 0.9959 - val_loss: 1.1450 - val_accuracy: 0.7029 - lr: 0.0010\n",
            "Epoch 6/25\n",
            "103/103 [==============================] - ETA: 0s - loss: 0.0316 - accuracy: 0.9980\n",
            "Epoch 6: val_accuracy improved from 0.70294 to 0.72059, saving model to ./vgg_19_best_weights.hdf5\n",
            "103/103 [==============================] - 46s 442ms/step - loss: 0.0316 - accuracy: 0.9980 - val_loss: 1.0646 - val_accuracy: 0.7206 - lr: 0.0010\n",
            "Epoch 7/25\n",
            "103/103 [==============================] - ETA: 0s - loss: 0.0194 - accuracy: 0.9992\n",
            "Epoch 7: val_accuracy improved from 0.72059 to 0.72843, saving model to ./vgg_19_best_weights.hdf5\n",
            "103/103 [==============================] - 46s 443ms/step - loss: 0.0194 - accuracy: 0.9992 - val_loss: 1.0503 - val_accuracy: 0.7284 - lr: 0.0010\n",
            "Epoch 8/25\n",
            "103/103 [==============================] - ETA: 0s - loss: 0.0136 - accuracy: 0.9997\n",
            "Epoch 8: val_accuracy improved from 0.72843 to 0.73529, saving model to ./vgg_19_best_weights.hdf5\n",
            "103/103 [==============================] - 45s 441ms/step - loss: 0.0136 - accuracy: 0.9997 - val_loss: 1.0276 - val_accuracy: 0.7353 - lr: 0.0010\n",
            "Epoch 9/25\n",
            "103/103 [==============================] - ETA: 0s - loss: 0.0115 - accuracy: 0.9997\n",
            "Epoch 9: val_accuracy improved from 0.73529 to 0.74216, saving model to ./vgg_19_best_weights.hdf5\n",
            "103/103 [==============================] - 45s 441ms/step - loss: 0.0115 - accuracy: 0.9997 - val_loss: 1.0216 - val_accuracy: 0.7422 - lr: 0.0010\n",
            "Epoch 10/25\n",
            "103/103 [==============================] - ETA: 0s - loss: 0.0106 - accuracy: 0.9997\n",
            "Epoch 10: val_accuracy improved from 0.74216 to 0.75490, saving model to ./vgg_19_best_weights.hdf5\n",
            "103/103 [==============================] - 46s 445ms/step - loss: 0.0106 - accuracy: 0.9997 - val_loss: 0.9752 - val_accuracy: 0.7549 - lr: 0.0010\n",
            "Epoch 11/25\n",
            "103/103 [==============================] - ETA: 0s - loss: 0.0098 - accuracy: 0.9997\n",
            "Epoch 11: val_accuracy improved from 0.75490 to 0.75686, saving model to ./vgg_19_best_weights.hdf5\n",
            "103/103 [==============================] - 46s 446ms/step - loss: 0.0098 - accuracy: 0.9997 - val_loss: 0.9547 - val_accuracy: 0.7569 - lr: 0.0010\n",
            "Epoch 12/25\n",
            "103/103 [==============================] - ETA: 0s - loss: 0.0088 - accuracy: 0.9997\n",
            "Epoch 12: val_accuracy improved from 0.75686 to 0.75882, saving model to ./vgg_19_best_weights.hdf5\n",
            "103/103 [==============================] - 45s 441ms/step - loss: 0.0088 - accuracy: 0.9997 - val_loss: 0.9386 - val_accuracy: 0.7588 - lr: 0.0010\n",
            "Epoch 13/25\n",
            "103/103 [==============================] - ETA: 0s - loss: 0.0078 - accuracy: 0.9997\n",
            "Epoch 13: val_accuracy did not improve from 0.75882\n",
            "103/103 [==============================] - 42s 412ms/step - loss: 0.0078 - accuracy: 0.9997 - val_loss: 1.1509 - val_accuracy: 0.7137 - lr: 0.0010\n",
            "Epoch 14/25\n",
            "103/103 [==============================] - ETA: 0s - loss: 0.0088 - accuracy: 0.9997\n",
            "Epoch 14: val_accuracy improved from 0.75882 to 0.76373, saving model to ./vgg_19_best_weights.hdf5\n",
            "103/103 [==============================] - 45s 442ms/step - loss: 0.0088 - accuracy: 0.9997 - val_loss: 0.9156 - val_accuracy: 0.7637 - lr: 0.0010\n",
            "Epoch 15/25\n",
            "103/103 [==============================] - ETA: 0s - loss: 0.0063 - accuracy: 0.9997\n",
            "Epoch 15: val_accuracy improved from 0.76373 to 0.76765, saving model to ./vgg_19_best_weights.hdf5\n",
            "103/103 [==============================] - 46s 442ms/step - loss: 0.0063 - accuracy: 0.9997 - val_loss: 0.9115 - val_accuracy: 0.7676 - lr: 0.0010\n",
            "Epoch 16/25\n",
            "103/103 [==============================] - ETA: 0s - loss: 0.0056 - accuracy: 0.9997\n",
            "Epoch 16: val_accuracy did not improve from 0.76765\n",
            "103/103 [==============================] - 43s 415ms/step - loss: 0.0056 - accuracy: 0.9997 - val_loss: 0.9064 - val_accuracy: 0.7667 - lr: 0.0010\n",
            "Epoch 17/25\n",
            "103/103 [==============================] - ETA: 0s - loss: 0.0049 - accuracy: 0.9997\n",
            "Epoch 17: val_accuracy did not improve from 0.76765\n",
            "103/103 [==============================] - 42s 410ms/step - loss: 0.0049 - accuracy: 0.9997 - val_loss: 0.9000 - val_accuracy: 0.7657 - lr: 0.0010\n",
            "Epoch 18/25\n",
            "103/103 [==============================] - ETA: 0s - loss: 0.0043 - accuracy: 0.9997\n",
            "Epoch 18: val_accuracy did not improve from 0.76765\n",
            "103/103 [==============================] - 42s 412ms/step - loss: 0.0043 - accuracy: 0.9997 - val_loss: 0.8960 - val_accuracy: 0.7598 - lr: 0.0010\n",
            "Epoch 19/25\n",
            "103/103 [==============================] - ETA: 0s - loss: 0.0040 - accuracy: 0.9997\n",
            "Epoch 19: val_accuracy did not improve from 0.76765\n",
            "103/103 [==============================] - 42s 411ms/step - loss: 0.0040 - accuracy: 0.9997 - val_loss: 0.9020 - val_accuracy: 0.7598 - lr: 0.0010\n",
            "Epoch 20/25\n",
            "103/103 [==============================] - ETA: 0s - loss: 0.0031 - accuracy: 0.9997\n",
            "Epoch 20: val_accuracy did not improve from 0.76765\n",
            "103/103 [==============================] - 43s 415ms/step - loss: 0.0031 - accuracy: 0.9997 - val_loss: 0.8646 - val_accuracy: 0.7637 - lr: 6.0000e-04\n",
            "Epoch 21/25\n",
            "103/103 [==============================] - ETA: 0s - loss: 0.0028 - accuracy: 0.9997\n",
            "Epoch 21: val_accuracy did not improve from 0.76765\n",
            "103/103 [==============================] - 42s 409ms/step - loss: 0.0028 - accuracy: 0.9997 - val_loss: 0.8651 - val_accuracy: 0.7676 - lr: 6.0000e-04\n",
            "Epoch 22/25\n",
            "103/103 [==============================] - ETA: 0s - loss: 0.0026 - accuracy: 0.9997\n",
            "Epoch 22: val_accuracy did not improve from 0.76765\n",
            "103/103 [==============================] - 42s 411ms/step - loss: 0.0026 - accuracy: 0.9997 - val_loss: 0.8643 - val_accuracy: 0.7657 - lr: 6.0000e-04\n",
            "Epoch 23/25\n",
            "103/103 [==============================] - ETA: 0s - loss: 0.0025 - accuracy: 0.9997\n",
            "Epoch 23: val_accuracy did not improve from 0.76765\n",
            "103/103 [==============================] - 43s 415ms/step - loss: 0.0025 - accuracy: 0.9997 - val_loss: 0.8629 - val_accuracy: 0.7637 - lr: 6.0000e-04\n",
            "Epoch 24/25\n",
            "103/103 [==============================] - ETA: 0s - loss: 0.0020 - accuracy: 0.9997\n",
            "Epoch 24: val_accuracy did not improve from 0.76765\n",
            "103/103 [==============================] - 43s 415ms/step - loss: 0.0020 - accuracy: 0.9997 - val_loss: 0.8553 - val_accuracy: 0.7667 - lr: 3.6000e-04\n",
            "Epoch 25/25\n",
            "103/103 [==============================] - ETA: 0s - loss: 0.0019 - accuracy: 0.9997\n",
            "Epoch 25: val_accuracy did not improve from 0.76765\n",
            "103/103 [==============================] - 43s 415ms/step - loss: 0.0019 - accuracy: 0.9997 - val_loss: 0.8559 - val_accuracy: 0.7676 - lr: 3.6000e-04\n"
          ]
        }
      ]
    },
    {
      "cell_type": "markdown",
      "source": [
        "Từ thực nghiệm thấy rằng, việc dùng nhiều layer ít nodes sẽ kém hiệu quả hơn 1 layer nhiều nodes"
      ],
      "metadata": {
        "id": "jCTh9d2hqzki"
      }
    },
    {
      "cell_type": "code",
      "source": [
        "model_from_vgg19.save('model_vgg19.h5')"
      ],
      "metadata": {
        "id": "YGDXE_oN08Oq"
      },
      "execution_count": null,
      "outputs": []
    },
    {
      "cell_type": "code",
      "source": [
        "draw_learning_curve(history3)"
      ],
      "metadata": {
        "colab": {
          "base_uri": "https://localhost:8080/",
          "height": 364
        },
        "id": "qPKVdaZSxTaY",
        "outputId": "5b891cb9-1bf9-43bb-b75f-82471083d96a"
      },
      "execution_count": null,
      "outputs": [
        {
          "output_type": "display_data",
          "data": {
            "text/plain": [
              "<Figure size 1440x432 with 2 Axes>"
            ],
            "image/png": "[encoded data removed]"
          },
          "metadata": {
            "needs_background": "light"
          }
        }
      ]
    },
    {
      "cell_type": "markdown",
      "source": [
        "# VGG16_TRAIN"
      ],
      "metadata": {
        "id": "fLVfxrEp98bm"
      }
    },
    {
      "cell_type": "code",
      "source": [
        "#use VGG16 pre-trained model\n",
        "def create_train_model_from_VGG16():\n",
        "   \n",
        "    model = VGG16(weights = \"imagenet\", include_top=False, input_shape = (224,224, 3))\n",
        "    \n",
        "    # don't train existing weights \n",
        "    for layer in model.layers:\n",
        "      layer.trainable = True\n",
        "\n",
        "    return model\n",
        "\n",
        "## Adding custom layes to base model\n",
        "\n",
        "def add_custom_train_layers_VGG16():\n",
        "    #Adding custom Layers \n",
        "    model = create_train_model_from_VGG16()\n",
        "    x = model.output\n",
        "    x = tf.keras.layers.Flatten()(x)\n",
        "    x = tf.keras.layers.Dense(512, activation=\"relu\")(x)\n",
        "    x = tf.keras.layers.Dense(512, activation=\"relu\")(x)\n",
        "\n",
        "    predictions = tf.keras.layers.Dense(102, activation=\"softmax\")(x)\n",
        "    \n",
        "    # creating the final model \n",
        "    final_model = tf.keras.models.Model(inputs = model.input, outputs = predictions)\n",
        "    \n",
        "    final_model.compile(loss='categorical_crossentropy', optimizer='adam', metrics=['accuracy']) \n",
        "    \n",
        "    return final_model"
      ],
      "metadata": {
        "id": "TgGFETd59_Yr"
      },
      "execution_count": null,
      "outputs": []
    },
    {
      "cell_type": "code",
      "source": [
        "epochs = 25\n",
        "#start = time.time()\n",
        "\n",
        "model_train_from_vgg16 = add_custom_train_layers_VGG16()\n",
        "history5 = model_train_from_vgg16.fit(test_data,\n",
        "                    epochs=epochs,\n",
        "                    validation_data=val_data,\n",
        "                    #validation_steps=5,\n",
        "                    verbose=1,\n",
        "                    callbacks = callback_list2 # giving the callback list\n",
        "                     )"
      ],
      "metadata": {
        "colab": {
          "base_uri": "https://localhost:8080/"
        },
        "id": "qO0FMuMs-Nyg",
        "outputId": "0b2956b6-f610-4f60-cf38-15673dfa25e9"
      },
      "execution_count": null,
      "outputs": [
        {
          "output_type": "stream",
          "name": "stdout",
          "text": [
            "Epoch 1/25\n",
            "103/103 [==============================] - ETA: 0s - loss: 4.4807 - accuracy: 0.0384\n",
            "Epoch 1: val_accuracy improved from -inf to 0.02549, saving model to ./vgg_19_best_weights.hdf5\n",
            "103/103 [==============================] - 122s 972ms/step - loss: 4.4807 - accuracy: 0.0384 - val_loss: 4.6147 - val_accuracy: 0.0255 - lr: 0.0010\n",
            "Epoch 2/25\n",
            "103/103 [==============================] - ETA: 0s - loss: 4.0122 - accuracy: 0.0898\n",
            "Epoch 2: val_accuracy improved from 0.02549 to 0.03333, saving model to ./vgg_19_best_weights.hdf5\n",
            "103/103 [==============================] - 88s 856ms/step - loss: 4.0122 - accuracy: 0.0898 - val_loss: 4.5581 - val_accuracy: 0.0333 - lr: 0.0010\n",
            "Epoch 3/25\n",
            "103/103 [==============================] - ETA: 0s - loss: 3.6628 - accuracy: 0.1254\n",
            "Epoch 3: val_accuracy improved from 0.03333 to 0.08039, saving model to ./vgg_19_best_weights.hdf5\n",
            "103/103 [==============================] - 88s 858ms/step - loss: 3.6628 - accuracy: 0.1254 - val_loss: 4.1570 - val_accuracy: 0.0804 - lr: 0.0010\n",
            "Epoch 4/25\n",
            "103/103 [==============================] - ETA: 0s - loss: 3.4028 - accuracy: 0.1691\n",
            "Epoch 4: val_accuracy improved from 0.08039 to 0.10784, saving model to ./vgg_19_best_weights.hdf5\n",
            "103/103 [==============================] - 88s 853ms/step - loss: 3.4028 - accuracy: 0.1691 - val_loss: 3.8683 - val_accuracy: 0.1078 - lr: 0.0010\n",
            "Epoch 5/25\n",
            "103/103 [==============================] - ETA: 0s - loss: 3.2170 - accuracy: 0.2023\n",
            "Epoch 5: val_accuracy did not improve from 0.10784\n",
            "103/103 [==============================] - 86s 838ms/step - loss: 3.2170 - accuracy: 0.2023 - val_loss: 3.9288 - val_accuracy: 0.1010 - lr: 0.0010\n",
            "Epoch 6/25\n",
            "103/103 [==============================] - ETA: 0s - loss: 2.9697 - accuracy: 0.2480\n",
            "Epoch 6: val_accuracy improved from 0.10784 to 0.13137, saving model to ./vgg_19_best_weights.hdf5\n",
            "103/103 [==============================] - 88s 852ms/step - loss: 2.9697 - accuracy: 0.2480 - val_loss: 3.8226 - val_accuracy: 0.1314 - lr: 0.0010\n",
            "Epoch 7/25\n",
            "103/103 [==============================] - ETA: 0s - loss: 2.7856 - accuracy: 0.2722\n",
            "Epoch 7: val_accuracy improved from 0.13137 to 0.14118, saving model to ./vgg_19_best_weights.hdf5\n",
            "103/103 [==============================] - 88s 855ms/step - loss: 2.7856 - accuracy: 0.2722 - val_loss: 3.8192 - val_accuracy: 0.1412 - lr: 0.0010\n",
            "Epoch 8/25\n",
            "103/103 [==============================] - ETA: 0s - loss: 2.6085 - accuracy: 0.3196\n",
            "Epoch 8: val_accuracy improved from 0.14118 to 0.15882, saving model to ./vgg_19_best_weights.hdf5\n",
            "103/103 [==============================] - 88s 851ms/step - loss: 2.6085 - accuracy: 0.3196 - val_loss: 3.7698 - val_accuracy: 0.1588 - lr: 0.0010\n",
            "Epoch 9/25\n",
            "103/103 [==============================] - ETA: 0s - loss: 2.4838 - accuracy: 0.3488\n",
            "Epoch 9: val_accuracy improved from 0.15882 to 0.15980, saving model to ./vgg_19_best_weights.hdf5\n",
            "103/103 [==============================] - 88s 854ms/step - loss: 2.4838 - accuracy: 0.3488 - val_loss: 4.1833 - val_accuracy: 0.1598 - lr: 0.0010\n",
            "Epoch 10/25\n",
            "103/103 [==============================] - ETA: 0s - loss: 2.2696 - accuracy: 0.3901\n",
            "Epoch 10: val_accuracy improved from 0.15980 to 0.17353, saving model to ./vgg_19_best_weights.hdf5\n",
            "103/103 [==============================] - 88s 851ms/step - loss: 2.2696 - accuracy: 0.3901 - val_loss: 4.0034 - val_accuracy: 0.1735 - lr: 0.0010\n",
            "Epoch 11/25\n",
            "103/103 [==============================] - ETA: 0s - loss: 2.1523 - accuracy: 0.4184\n",
            "Epoch 11: val_accuracy improved from 0.17353 to 0.20196, saving model to ./vgg_19_best_weights.hdf5\n",
            "103/103 [==============================] - 88s 851ms/step - loss: 2.1523 - accuracy: 0.4184 - val_loss: 4.1204 - val_accuracy: 0.2020 - lr: 0.0010\n",
            "Epoch 12/25\n",
            "103/103 [==============================] - ETA: 0s - loss: 1.9150 - accuracy: 0.4646\n",
            "Epoch 12: val_accuracy did not improve from 0.20196\n",
            "103/103 [==============================] - 86s 838ms/step - loss: 1.9150 - accuracy: 0.4646 - val_loss: 4.7730 - val_accuracy: 0.1716 - lr: 0.0010\n",
            "Epoch 13/25\n",
            "103/103 [==============================] - ETA: 0s - loss: 1.6764 - accuracy: 0.5331\n",
            "Epoch 13: val_accuracy did not improve from 0.20196\n",
            "103/103 [==============================] - 86s 837ms/step - loss: 1.6764 - accuracy: 0.5331 - val_loss: 5.5757 - val_accuracy: 0.1588 - lr: 0.0010\n",
            "Epoch 14/25\n",
            "103/103 [==============================] - ETA: 0s - loss: 1.5146 - accuracy: 0.5729\n",
            "Epoch 14: val_accuracy did not improve from 0.20196\n",
            "103/103 [==============================] - 86s 836ms/step - loss: 1.5146 - accuracy: 0.5729 - val_loss: 5.9535 - val_accuracy: 0.1373 - lr: 0.0010\n",
            "Epoch 15/25\n",
            "103/103 [==============================] - ETA: 0s - loss: 1.3823 - accuracy: 0.6060\n",
            "Epoch 15: val_accuracy did not improve from 0.20196\n",
            "103/103 [==============================] - 86s 835ms/step - loss: 1.3823 - accuracy: 0.6060 - val_loss: 5.0471 - val_accuracy: 0.1353 - lr: 0.0010\n",
            "Epoch 16/25\n",
            "103/103 [==============================] - ETA: 0s - loss: 1.1127 - accuracy: 0.6782\n",
            "Epoch 16: val_accuracy did not improve from 0.20196\n",
            "103/103 [==============================] - 86s 835ms/step - loss: 1.1127 - accuracy: 0.6782 - val_loss: 5.7040 - val_accuracy: 0.1431 - lr: 6.0000e-04\n",
            "Epoch 17/25\n",
            "103/103 [==============================] - ETA: 0s - loss: 0.7752 - accuracy: 0.7733\n",
            "Epoch 17: val_accuracy did not improve from 0.20196\n",
            "103/103 [==============================] - 86s 835ms/step - loss: 0.7752 - accuracy: 0.7733 - val_loss: 6.1354 - val_accuracy: 0.1284 - lr: 6.0000e-04\n",
            "Epoch 18/25\n",
            "103/103 [==============================] - ETA: 0s - loss: 0.6756 - accuracy: 0.8014\n",
            "Epoch 18: val_accuracy did not improve from 0.20196\n",
            "103/103 [==============================] - 86s 835ms/step - loss: 0.6756 - accuracy: 0.8014 - val_loss: 6.2457 - val_accuracy: 0.1490 - lr: 6.0000e-04\n",
            "Epoch 19/25\n",
            "103/103 [==============================] - ETA: 0s - loss: 0.6727 - accuracy: 0.8006\n",
            "Epoch 19: val_accuracy did not improve from 0.20196\n",
            "103/103 [==============================] - 86s 834ms/step - loss: 0.6727 - accuracy: 0.8006 - val_loss: 6.6926 - val_accuracy: 0.1843 - lr: 6.0000e-04\n",
            "Epoch 20/25\n",
            "103/103 [==============================] - ETA: 0s - loss: 0.5335 - accuracy: 0.8419\n",
            "Epoch 20: val_accuracy did not improve from 0.20196\n",
            "103/103 [==============================] - 86s 834ms/step - loss: 0.5335 - accuracy: 0.8419 - val_loss: 7.8228 - val_accuracy: 0.1951 - lr: 3.6000e-04\n",
            "Epoch 21/25\n",
            "103/103 [==============================] - ETA: 0s - loss: 0.2957 - accuracy: 0.9089\n",
            "Epoch 21: val_accuracy improved from 0.20196 to 0.20980, saving model to ./vgg_19_best_weights.hdf5\n",
            "103/103 [==============================] - 87s 848ms/step - loss: 0.2957 - accuracy: 0.9089 - val_loss: 8.2627 - val_accuracy: 0.2098 - lr: 3.6000e-04\n",
            "Epoch 22/25\n",
            "103/103 [==============================] - ETA: 0s - loss: 0.1754 - accuracy: 0.9510\n",
            "Epoch 22: val_accuracy did not improve from 0.20980\n",
            "103/103 [==============================] - 86s 835ms/step - loss: 0.1754 - accuracy: 0.9510 - val_loss: 8.8085 - val_accuracy: 0.2078 - lr: 3.6000e-04\n",
            "Epoch 23/25\n",
            "103/103 [==============================] - ETA: 0s - loss: 0.1243 - accuracy: 0.9707\n",
            "Epoch 23: val_accuracy did not improve from 0.20980\n",
            "103/103 [==============================] - 86s 835ms/step - loss: 0.1243 - accuracy: 0.9707 - val_loss: 9.8079 - val_accuracy: 0.2088 - lr: 3.6000e-04\n",
            "Epoch 24/25\n",
            "103/103 [==============================] - ETA: 0s - loss: 0.0714 - accuracy: 0.9823\n",
            "Epoch 24: val_accuracy improved from 0.20980 to 0.21176, saving model to ./vgg_19_best_weights.hdf5\n",
            "103/103 [==============================] - 87s 849ms/step - loss: 0.0714 - accuracy: 0.9823 - val_loss: 10.4653 - val_accuracy: 0.2118 - lr: 3.6000e-04\n",
            "Epoch 25/25\n",
            "103/103 [==============================] - ETA: 0s - loss: 0.0608 - accuracy: 0.9850\n",
            "Epoch 25: val_accuracy improved from 0.21176 to 0.21667, saving model to ./vgg_19_best_weights.hdf5\n",
            "103/103 [==============================] - 87s 848ms/step - loss: 0.0608 - accuracy: 0.9850 - val_loss: 10.8588 - val_accuracy: 0.2167 - lr: 3.6000e-04\n"
          ]
        }
      ]
    },
    {
      "cell_type": "code",
      "source": [
        "draw_learning_curve(history5)"
      ],
      "metadata": {
        "colab": {
          "base_uri": "https://localhost:8080/",
          "height": 319
        },
        "id": "xtJDdK9gMJ8I",
        "outputId": "01c3e7bf-6a46-459e-9f6d-30dc6424b011"
      },
      "execution_count": null,
      "outputs": [
        {
          "output_type": "display_data",
          "data": {
            "text/plain": [
              "<Figure size 1440x432 with 2 Axes>"
            ],
            "image/png": "[encoded data removed]"
          },
          "metadata": {
            "needs_background": "light"
          }
        }
      ]
    },
    {
      "cell_type": "code",
      "source": [
        "model_train_from_vgg16.summary()"
      ],
      "metadata": {
        "id": "y_YZpJJnPKdY",
        "outputId": "d0f9eb05-a7c3-4605-f450-15e5c9150364",
        "colab": {
          "base_uri": "https://localhost:8080/"
        }
      },
      "execution_count": null,
      "outputs": [
        {
          "output_type": "stream",
          "name": "stdout",
          "text": [
            "Model: \"model\"\n",
            "_________________________________________________________________\n",
            " Layer (type)                Output Shape              Param #   \n",
            "=================================================================\n",
            " input_2 (InputLayer)        [(None, 224, 224, 3)]     0         \n",
            "                                                                 \n",
            " block1_conv1 (Conv2D)       (None, 224, 224, 64)      1792      \n",
            "                                                                 \n",
            " block1_conv2 (Conv2D)       (None, 224, 224, 64)      36928     \n",
            "                                                                 \n",
            " block1_pool (MaxPooling2D)  (None, 112, 112, 64)      0         \n",
            "                                                                 \n",
            " block2_conv1 (Conv2D)       (None, 112, 112, 128)     73856     \n",
            "                                                                 \n",
            " block2_conv2 (Conv2D)       (None, 112, 112, 128)     147584    \n",
            "                                                                 \n",
            " block2_pool (MaxPooling2D)  (None, 56, 56, 128)       0         \n",
            "                                                                 \n",
            " block3_conv1 (Conv2D)       (None, 56, 56, 256)       295168    \n",
            "                                                                 \n",
            " block3_conv2 (Conv2D)       (None, 56, 56, 256)       590080    \n",
            "                                                                 \n",
            " block3_conv3 (Conv2D)       (None, 56, 56, 256)       590080    \n",
            "                                                                 \n",
            " block3_pool (MaxPooling2D)  (None, 28, 28, 256)       0         \n",
            "                                                                 \n",
            " block4_conv1 (Conv2D)       (None, 28, 28, 512)       1180160   \n",
            "                                                                 \n",
            " block4_conv2 (Conv2D)       (None, 28, 28, 512)       2359808   \n",
            "                                                                 \n",
            " block4_conv3 (Conv2D)       (None, 28, 28, 512)       2359808   \n",
            "                                                                 \n",
            " block4_pool (MaxPooling2D)  (None, 14, 14, 512)       0         \n",
            "                                                                 \n",
            " block5_conv1 (Conv2D)       (None, 14, 14, 512)       2359808   \n",
            "                                                                 \n",
            " block5_conv2 (Conv2D)       (None, 14, 14, 512)       2359808   \n",
            "                                                                 \n",
            " block5_conv3 (Conv2D)       (None, 14, 14, 512)       2359808   \n",
            "                                                                 \n",
            " block5_pool (MaxPooling2D)  (None, 7, 7, 512)         0         \n",
            "                                                                 \n",
            " flatten (Flatten)           (None, 25088)             0         \n",
            "                                                                 \n",
            " dense (Dense)               (None, 512)               12845568  \n",
            "                                                                 \n",
            " dense_1 (Dense)             (None, 512)               262656    \n",
            "                                                                 \n",
            " dense_2 (Dense)             (None, 102)               52326     \n",
            "                                                                 \n",
            "=================================================================\n",
            "Total params: 27,875,238\n",
            "Trainable params: 27,875,238\n",
            "Non-trainable params: 0\n",
            "_________________________________________________________________\n"
          ]
        }
      ]
    },
    {
      "cell_type": "markdown",
      "metadata": {
        "id": "FxxJGd9oXzv1"
      },
      "source": [
        "# GRADIO - USER INTERFACE"
      ]
    },
    {
      "cell_type": "code",
      "source": [
        "model_from_vgg19 = add_custom_layers_VGG19()\n",
        "model_from_vgg19.load_weights('/content/drive/MyDrive/Colab Notebooks/vgg_19_best_weights.hdf5')\n",
        "#model_from_vgg19 = ('/content/model_vgg19.h5')\n"
      ],
      "metadata": {
        "id": "5_Swstp4AvM-"
      },
      "execution_count": null,
      "outputs": []
    },
    {
      "cell_type": "code",
      "execution_count": null,
      "metadata": {
        "id": "BushCpmfhI-2"
      },
      "outputs": [],
      "source": [
        "with open('/content/flower_names.txt') as f:\n",
        "    labels = f.readlines()"
      ]
    },
    {
      "cell_type": "code",
      "execution_count": null,
      "metadata": {
        "id": "0igmX_M6dQtI"
      },
      "outputs": [],
      "source": [
        "def image_to_output (input_img):\n",
        "  #gr_img0 = image.load_img(input_img, target_size=(100,100,3))\n",
        "  #gr_img0 = image.img_to_array(gr_img0)\n",
        "\n",
        "  gr_img=[]\n",
        "  #gr_img.append(gr_img0)\n",
        "  gr_img.append(input_img)\n",
        "\n",
        "  x_test=np.asarray(gr_img)/255.\n",
        "\n",
        "  prediction = model_from_vgg19.predict(x_test,batch_size=1).flatten()\n",
        "  confidences = {labels[i]: float(prediction[i]) for i in range(102)}\n",
        "  return confidences"
      ]
    },
    {
      "cell_type": "code",
      "execution_count": null,
      "metadata": {
        "id": "EWjRwa76lTsj",
        "colab": {
          "base_uri": "https://localhost:8080/",
          "height": 819
        },
        "outputId": "e000142d-fd71-400b-b567-01610d56f7d2"
      },
      "outputs": [
        {
          "output_type": "stream",
          "name": "stderr",
          "text": [
            "/usr/local/lib/python3.7/dist-packages/gradio/deprecation.py:40: UserWarning: `optional` parameter is deprecated, and it has no effect\n",
            "  warnings.warn(value)\n",
            "/usr/local/lib/python3.7/dist-packages/gradio/deprecation.py:40: UserWarning: The 'type' parameter has been deprecated. Use the Number component instead.\n",
            "  warnings.warn(value)\n"
          ]
        },
        {
          "output_type": "stream",
          "name": "stdout",
          "text": [
            "Colab notebook detected. To show errors in colab notebook, set `debug=True` in `launch()`\n",
            "Running on public URL: https://25103.gradio.app\n",
            "\n",
            "This share link expires in 72 hours. For free permanent hosting, check out Spaces (https://huggingface.co/spaces)\n"
          ]
        },
        {
          "output_type": "display_data",
          "data": {
            "text/plain": [
              "<IPython.core.display.HTML object>"
            ],
            "text/html": [
              "<div><iframe src=\"https://25103.gradio.app\" width=\"900\" height=\"500\" allow=\"autoplay; camera; microphone;\" frameborder=\"0\" allowfullscreen></iframe></div>"
            ]
          },
          "metadata": {}
        },
        {
          "output_type": "execute_result",
          "data": {
            "text/plain": [
              "(<gradio.routes.App at 0x7f3aaa064550>,\n",
              " 'http://127.0.0.1:7865/',\n",
              " 'https://25103.gradio.app')"
            ]
          },
          "metadata": {},
          "execution_count": 51
        },
        {
          "output_type": "stream",
          "name": "stderr",
          "text": [
            "ERROR:asyncio:Exception in callback None(<Task finishe...> result=None>)\n",
            "handle: <Handle>\n",
            "Traceback (most recent call last):\n",
            "  File \"/usr/lib/python3.7/asyncio/events.py\", line 88, in _run\n",
            "    self._context.run(self._callback, *self._args)\n",
            "TypeError: 'NoneType' object is not callable\n"
          ]
        }
      ],
      "source": [
        "import gradio as gr\n",
        "\n",
        "gr.Interface(fn=image_to_output, \n",
        "             inputs=gr.inputs.Image(shape=(224, 224)),\n",
        "             outputs=gr.outputs.Label(num_top_classes=5),\n",
        "             ).launch()"
      ]
    }
  ],
  "metadata": {
    "accelerator": "GPU",
    "colab": {
      "collapsed_sections": [],
      "name": "Copy of VGG16 & VGG19.ipynb",
      "provenance": []
    },
    "kernelspec": {
      "display_name": "Python 3",
      "name": "python3"
    },
    "language_info": {
      "name": "python"
    }
  },
  "nbformat": 4,
  "nbformat_minor": 0
}